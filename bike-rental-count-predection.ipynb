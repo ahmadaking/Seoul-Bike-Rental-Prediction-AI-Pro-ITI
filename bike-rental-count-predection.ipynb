{
 "cells": [
  {
   "cell_type": "markdown",
   "id": "186a3c1f",
   "metadata": {
    "papermill": {
     "duration": 0.052554,
     "end_time": "2021-08-30T16:24:20.739849",
     "exception": false,
     "start_time": "2021-08-30T16:24:20.687295",
     "status": "completed"
    },
    "tags": []
   },
   "source": [
    "## Seoul Bike Rental Prediction - AI-Pro - ITI\n",
    "\n",
    "### Problem Statement:\n",
    "\n",
    "In the competition, it's required to predict the bike count per hour to stabilize the supply of rental bikes all the time.\n",
    "\n",
    "### Dataset Features Decription:\n",
    "\n",
    "The dataset contains weather information (Temperature, Humidity, Windspeed, ..) also it includes the number of bikes rented per hour and date of rent information.\n",
    "\n",
    "Features Information:\n",
    "\n",
    "\n",
    "    ID - an ID for this instance\n",
    "    Date - year-month-day\n",
    "    Hour - Hour of he day\n",
    "    Temperature - Temperature in Celsius\n",
    "    Humidity - %\n",
    "    Windspeed - m/s\n",
    "    Visibility - 10m\n",
    "    Dew point temperature - Celsius\n",
    "    Solar radiation - MJ/m2\n",
    "    Rainfall - mm\n",
    "    Snowfall - cm\n",
    "    Seasons - Winter, Spring, Summer, Autumn\n",
    "    Holiday - Holiday/No holiday\n",
    "    Functional Day - NoFunc(Non Functional Hours), Fun(Functional hours)\n",
    "    y - Rented Bike count (Target), Count of bikes rented at each hour\n",
    "\n",
    "\n",
    "\n"
   ]
  },
  {
   "cell_type": "markdown",
   "id": "ae297ab6",
   "metadata": {
    "papermill": {
     "duration": 0.054053,
     "end_time": "2021-08-30T16:24:20.846860",
     "exception": false,
     "start_time": "2021-08-30T16:24:20.792807",
     "status": "completed"
    },
    "tags": []
   },
   "source": [
    "### Setup Enviroment"
   ]
  },
  {
   "cell_type": "code",
   "execution_count": 1,
   "id": "58fabfd5",
   "metadata": {
    "execution": {
     "iopub.execute_input": "2021-08-30T16:24:20.967804Z",
     "iopub.status.busy": "2021-08-30T16:24:20.962299Z",
     "iopub.status.idle": "2021-08-30T16:24:22.522583Z",
     "shell.execute_reply": "2021-08-30T16:24:22.523009Z",
     "shell.execute_reply.started": "2021-08-30T16:21:33.437354Z"
    },
    "papermill": {
     "duration": 1.622944,
     "end_time": "2021-08-30T16:24:22.523267",
     "exception": false,
     "start_time": "2021-08-30T16:24:20.900323",
     "status": "completed"
    },
    "tags": []
   },
   "outputs": [],
   "source": [
    "%matplotlib inline\n",
    "import pandas as pd\n",
    "import numpy as np\n",
    "from datetime import datetime\n",
    "import datetime as dt\n",
    "import matplotlib.pyplot as plt  \n",
    "import seaborn as sns\n",
    "from sklearn.preprocessing import LabelEncoder\n",
    "from sklearn.preprocessing import OneHotEncoder\n",
    "from sklearn.ensemble import BaggingRegressor, RandomForestRegressor, AdaBoostRegressor\n",
    "from sklearn.linear_model import LinearRegression\n",
    "from sklearn.svm import SVR\n",
    "from sklearn.model_selection import train_test_split, TimeSeriesSplit, GridSearchCV,cross_val_score \n",
    "import os\n",
    "import time\n",
    "import datetime\n",
    "from sklearn.metrics import mean_absolute_error,r2_score, mean_squared_log_error,mean_squared_error, make_scorer\n",
    "plt.style.use('fivethirtyeight')\n",
    "sns.set_style(\"whitegrid\")\n",
    "pd.set_option('display.max_columns', 500)"
   ]
  },
  {
   "cell_type": "code",
   "execution_count": 2,
   "id": "57a26053",
   "metadata": {
    "execution": {
     "iopub.execute_input": "2021-08-30T16:24:22.596962Z",
     "iopub.status.busy": "2021-08-30T16:24:22.596468Z",
     "iopub.status.idle": "2021-08-30T16:24:22.627060Z",
     "shell.execute_reply": "2021-08-30T16:24:22.627475Z",
     "shell.execute_reply.started": "2021-08-30T16:21:35.335481Z"
    },
    "papermill": {
     "duration": 0.069051,
     "end_time": "2021-08-30T16:24:22.627605",
     "exception": false,
     "start_time": "2021-08-30T16:24:22.558554",
     "status": "completed"
    },
    "tags": []
   },
   "outputs": [],
   "source": [
    "dataset_path = '/kaggle/input/seoul-bike-rental-ai-pro-iti'\n",
    "df = pd.read_csv(os.path.join(dataset_path, 'train.csv'))"
   ]
  },
  {
   "cell_type": "markdown",
   "id": "c48dccb0",
   "metadata": {
    "papermill": {
     "duration": 0.032667,
     "end_time": "2021-08-30T16:24:22.692624",
     "exception": false,
     "start_time": "2021-08-30T16:24:22.659957",
     "status": "completed"
    },
    "tags": []
   },
   "source": [
    "<p> The dataset has no null values and no duplicate rows</p>"
   ]
  },
  {
   "cell_type": "code",
   "execution_count": 3,
   "id": "d3214456",
   "metadata": {
    "execution": {
     "iopub.execute_input": "2021-08-30T16:24:22.759849Z",
     "iopub.status.busy": "2021-08-30T16:24:22.759295Z",
     "iopub.status.idle": "2021-08-30T16:24:22.770802Z",
     "shell.execute_reply": "2021-08-30T16:24:22.771136Z",
     "shell.execute_reply.started": "2021-08-30T16:21:36.433843Z"
    },
    "papermill": {
     "duration": 0.046494,
     "end_time": "2021-08-30T16:24:22.771302",
     "exception": false,
     "start_time": "2021-08-30T16:24:22.724808",
     "status": "completed"
    },
    "tags": []
   },
   "outputs": [],
   "source": [
    "df.rename(columns={\"ID\": \"ID\",\n",
    "                   \"Date\": \"date\",\n",
    "                   'y':'count',\n",
    "                   'Hour':'hour',\n",
    "                   'Temperature(�C)':'temperature',\n",
    "                  'Humidity(%)':'humidity',\n",
    "                  'Wind speed (m/s)':'wind_speed',\n",
    "                  'Visibility (10m)':'visibility',\n",
    "                  'Dew point temperature(�C)':'dew_temperature',\n",
    "                  'Solar Radiation (MJ/m2)':'solar_radiation',\n",
    "                  'Rainfall(mm)':'rainfall',\n",
    "                  'Snowfall (cm)':'snowfall',\n",
    "                  'Seasons':'season',\n",
    "                  'Holiday':'is_holiday',\n",
    "                  'Functioning Day':'functional_day'},inplace=True)"
   ]
  },
  {
   "cell_type": "code",
   "execution_count": 4,
   "id": "8d21eeb8",
   "metadata": {
    "execution": {
     "iopub.execute_input": "2021-08-30T16:24:22.848517Z",
     "iopub.status.busy": "2021-08-30T16:24:22.847979Z",
     "iopub.status.idle": "2021-08-30T16:24:22.863459Z",
     "shell.execute_reply": "2021-08-30T16:24:22.862911Z",
     "shell.execute_reply.started": "2021-08-30T16:21:38.131302Z"
    },
    "papermill": {
     "duration": 0.059847,
     "end_time": "2021-08-30T16:24:22.863586",
     "exception": false,
     "start_time": "2021-08-30T16:24:22.803739",
     "status": "completed"
    },
    "tags": []
   },
   "outputs": [],
   "source": [
    "df[\"date\"] = pd.to_datetime(df[\"date\"], dayfirst=True)\n",
    "df['season']=df[\"season\"].map({'Winter':1,'Spring':2,'Autumn':3,'Summer':4})"
   ]
  },
  {
   "cell_type": "code",
   "execution_count": 5,
   "id": "d7dda004",
   "metadata": {
    "execution": {
     "iopub.execute_input": "2021-08-30T16:24:22.963881Z",
     "iopub.status.busy": "2021-08-30T16:24:22.963340Z",
     "iopub.status.idle": "2021-08-30T16:24:22.971379Z",
     "shell.execute_reply": "2021-08-30T16:24:22.970834Z",
     "shell.execute_reply.started": "2021-08-30T16:21:39.510724Z"
    },
    "papermill": {
     "duration": 0.059228,
     "end_time": "2021-08-30T16:24:22.971513",
     "exception": false,
     "start_time": "2021-08-30T16:24:22.912285",
     "status": "completed"
    },
    "tags": []
   },
   "outputs": [],
   "source": [
    "def cyclic_encode(data, column, max_value):\n",
    "    data[column + '_sin'] = np.sin(2 * np.pi * data[column] / max_value)\n",
    "    data[column + '_cos'] = np.cos(2 * np.pi * data[column] / max_value)\n",
    "    data.drop(column,axis=1,inplace=True)\n",
    "    return data"
   ]
  },
  {
   "cell_type": "code",
   "execution_count": 6,
   "id": "f85213ab",
   "metadata": {
    "execution": {
     "iopub.execute_input": "2021-08-30T16:24:23.077788Z",
     "iopub.status.busy": "2021-08-30T16:24:23.077092Z",
     "iopub.status.idle": "2021-08-30T16:24:23.079726Z",
     "shell.execute_reply": "2021-08-30T16:24:23.080066Z",
     "shell.execute_reply.started": "2021-08-30T16:21:40.814068Z"
    },
    "papermill": {
     "duration": 0.058827,
     "end_time": "2021-08-30T16:24:23.080233",
     "exception": false,
     "start_time": "2021-08-30T16:24:23.021406",
     "status": "completed"
    },
    "tags": []
   },
   "outputs": [],
   "source": [
    "def break_fun(x):\n",
    "    result=[]\n",
    "    if np.quantile(x,0)> 0:\n",
    "        result=[round(np.quantile(x,item),2) for item in np.linspace(0,1,5)]\n",
    "    else:\n",
    "        result=[round(np.quantile(x,item),2) for item in np.linspace(0,1,5)]\n",
    "    return result"
   ]
  },
  {
   "cell_type": "code",
   "execution_count": 7,
   "id": "4a3d395e",
   "metadata": {
    "execution": {
     "iopub.execute_input": "2021-08-30T16:24:23.155205Z",
     "iopub.status.busy": "2021-08-30T16:24:23.154752Z",
     "iopub.status.idle": "2021-08-30T16:24:23.156592Z",
     "shell.execute_reply": "2021-08-30T16:24:23.156944Z",
     "shell.execute_reply.started": "2021-08-30T16:21:41.459914Z"
    },
    "papermill": {
     "duration": 0.042236,
     "end_time": "2021-08-30T16:24:23.157059",
     "exception": false,
     "start_time": "2021-08-30T16:24:23.114823",
     "status": "completed"
    },
    "tags": []
   },
   "outputs": [],
   "source": [
    "def hour_group(x):\n",
    "    if x in range(0,7):\n",
    "        return 0\n",
    "    elif x in range(7,13):\n",
    "        return 2\n",
    "    elif x in range(13,19):\n",
    "        return 4\n",
    "    else:\n",
    "        return 3"
   ]
  },
  {
   "cell_type": "code",
   "execution_count": 8,
   "id": "c65ef2da",
   "metadata": {
    "execution": {
     "iopub.execute_input": "2021-08-30T16:24:23.230489Z",
     "iopub.status.busy": "2021-08-30T16:24:23.230027Z",
     "iopub.status.idle": "2021-08-30T16:24:23.233612Z",
     "shell.execute_reply": "2021-08-30T16:24:23.233067Z",
     "shell.execute_reply.started": "2021-08-30T16:21:41.792197Z"
    },
    "papermill": {
     "duration": 0.042109,
     "end_time": "2021-08-30T16:24:23.233728",
     "exception": false,
     "start_time": "2021-08-30T16:24:23.191619",
     "status": "completed"
    },
    "tags": []
   },
   "outputs": [],
   "source": [
    "def month_group(x):\n",
    "    if x in [1,1,12,3,11,4]:\n",
    "        return 0\n",
    "    else:\n",
    "        return 1"
   ]
  },
  {
   "cell_type": "code",
   "execution_count": 9,
   "id": "081e190b",
   "metadata": {
    "execution": {
     "iopub.execute_input": "2021-08-30T16:24:23.309419Z",
     "iopub.status.busy": "2021-08-30T16:24:23.308947Z",
     "iopub.status.idle": "2021-08-30T16:24:23.310158Z",
     "shell.execute_reply": "2021-08-30T16:24:23.310564Z",
     "shell.execute_reply.started": "2021-08-30T16:21:42.599374Z"
    },
    "papermill": {
     "duration": 0.042054,
     "end_time": "2021-08-30T16:24:23.310707",
     "exception": false,
     "start_time": "2021-08-30T16:24:23.268653",
     "status": "completed"
    },
    "tags": []
   },
   "outputs": [],
   "source": [
    "import math\n",
    "def date_features(data):\n",
    "    # Date Features\n",
    "    data['year'] = data.date.dt.year\n",
    "    data['month'] = data.date.dt.month\n",
    "#     data['hour_group']=data['hour'].map(lambda x:hour_group(x))\n",
    "#     data['month_group']=data['month'].map(lambda x:month_group(x))\n",
    "    data['day'] = data.date.dt.day\n",
    "    data['dayofyear'] = data.date.dt.dayofyear\n",
    "    data['dayofweek'] = data.date.dt.dayofweek\n",
    "    data['day_name']=data.date.dt.day_name()\n",
    "    data['label_day_night']=data['hour'].apply(lambda x : 0 if (x >20 or x<5) else 1)\n",
    "    data['weekofyear'] = data.date.dt.weekofyear\n",
    "    data.drop(['date','day_name'], axis=1, inplace=True)\n",
    "    return data"
   ]
  },
  {
   "cell_type": "code",
   "execution_count": 10,
   "id": "cbcf77fb",
   "metadata": {
    "execution": {
     "iopub.execute_input": "2021-08-30T16:24:23.375839Z",
     "iopub.status.busy": "2021-08-30T16:24:23.375425Z",
     "iopub.status.idle": "2021-08-30T16:24:23.403344Z",
     "shell.execute_reply": "2021-08-30T16:24:23.403842Z",
     "shell.execute_reply.started": "2021-08-30T16:21:44.097642Z"
    },
    "papermill": {
     "duration": 0.061747,
     "end_time": "2021-08-30T16:24:23.404000",
     "exception": false,
     "start_time": "2021-08-30T16:24:23.342253",
     "status": "completed"
    },
    "tags": []
   },
   "outputs": [
    {
     "data": {
      "text/html": [
       "<div>\n",
       "<style scoped>\n",
       "    .dataframe tbody tr th:only-of-type {\n",
       "        vertical-align: middle;\n",
       "    }\n",
       "\n",
       "    .dataframe tbody tr th {\n",
       "        vertical-align: top;\n",
       "    }\n",
       "\n",
       "    .dataframe thead th {\n",
       "        text-align: right;\n",
       "    }\n",
       "</style>\n",
       "<table border=\"1\" class=\"dataframe\">\n",
       "  <thead>\n",
       "    <tr style=\"text-align: right;\">\n",
       "      <th></th>\n",
       "      <th>ID</th>\n",
       "      <th>date</th>\n",
       "      <th>count</th>\n",
       "      <th>hour</th>\n",
       "      <th>temperature</th>\n",
       "      <th>humidity</th>\n",
       "      <th>wind_speed</th>\n",
       "      <th>visibility</th>\n",
       "      <th>dew_temperature</th>\n",
       "      <th>solar_radiation</th>\n",
       "      <th>rainfall</th>\n",
       "      <th>snowfall</th>\n",
       "      <th>season</th>\n",
       "      <th>is_holiday</th>\n",
       "      <th>functional_day</th>\n",
       "    </tr>\n",
       "  </thead>\n",
       "  <tbody>\n",
       "    <tr>\n",
       "      <th>0</th>\n",
       "      <td>0</td>\n",
       "      <td>2017-12-01</td>\n",
       "      <td>254</td>\n",
       "      <td>0</td>\n",
       "      <td>-5.2</td>\n",
       "      <td>37</td>\n",
       "      <td>2.2</td>\n",
       "      <td>2000</td>\n",
       "      <td>-17.6</td>\n",
       "      <td>0.0</td>\n",
       "      <td>0.0</td>\n",
       "      <td>0.0</td>\n",
       "      <td>1</td>\n",
       "      <td>No Holiday</td>\n",
       "      <td>Yes</td>\n",
       "    </tr>\n",
       "    <tr>\n",
       "      <th>1</th>\n",
       "      <td>1</td>\n",
       "      <td>2017-12-01</td>\n",
       "      <td>204</td>\n",
       "      <td>1</td>\n",
       "      <td>-5.5</td>\n",
       "      <td>38</td>\n",
       "      <td>0.8</td>\n",
       "      <td>2000</td>\n",
       "      <td>-17.6</td>\n",
       "      <td>0.0</td>\n",
       "      <td>0.0</td>\n",
       "      <td>0.0</td>\n",
       "      <td>1</td>\n",
       "      <td>No Holiday</td>\n",
       "      <td>Yes</td>\n",
       "    </tr>\n",
       "    <tr>\n",
       "      <th>2</th>\n",
       "      <td>2</td>\n",
       "      <td>2017-12-01</td>\n",
       "      <td>173</td>\n",
       "      <td>2</td>\n",
       "      <td>-6.0</td>\n",
       "      <td>39</td>\n",
       "      <td>1.0</td>\n",
       "      <td>2000</td>\n",
       "      <td>-17.7</td>\n",
       "      <td>0.0</td>\n",
       "      <td>0.0</td>\n",
       "      <td>0.0</td>\n",
       "      <td>1</td>\n",
       "      <td>No Holiday</td>\n",
       "      <td>Yes</td>\n",
       "    </tr>\n",
       "    <tr>\n",
       "      <th>3</th>\n",
       "      <td>3</td>\n",
       "      <td>2017-12-01</td>\n",
       "      <td>107</td>\n",
       "      <td>3</td>\n",
       "      <td>-6.2</td>\n",
       "      <td>40</td>\n",
       "      <td>0.9</td>\n",
       "      <td>2000</td>\n",
       "      <td>-17.6</td>\n",
       "      <td>0.0</td>\n",
       "      <td>0.0</td>\n",
       "      <td>0.0</td>\n",
       "      <td>1</td>\n",
       "      <td>No Holiday</td>\n",
       "      <td>Yes</td>\n",
       "    </tr>\n",
       "    <tr>\n",
       "      <th>4</th>\n",
       "      <td>4</td>\n",
       "      <td>2017-12-01</td>\n",
       "      <td>78</td>\n",
       "      <td>4</td>\n",
       "      <td>-6.0</td>\n",
       "      <td>36</td>\n",
       "      <td>2.3</td>\n",
       "      <td>2000</td>\n",
       "      <td>-18.6</td>\n",
       "      <td>0.0</td>\n",
       "      <td>0.0</td>\n",
       "      <td>0.0</td>\n",
       "      <td>1</td>\n",
       "      <td>No Holiday</td>\n",
       "      <td>Yes</td>\n",
       "    </tr>\n",
       "  </tbody>\n",
       "</table>\n",
       "</div>"
      ],
      "text/plain": [
       "   ID       date  count  hour  temperature  humidity  wind_speed  visibility  \\\n",
       "0   0 2017-12-01    254     0         -5.2        37         2.2        2000   \n",
       "1   1 2017-12-01    204     1         -5.5        38         0.8        2000   \n",
       "2   2 2017-12-01    173     2         -6.0        39         1.0        2000   \n",
       "3   3 2017-12-01    107     3         -6.2        40         0.9        2000   \n",
       "4   4 2017-12-01     78     4         -6.0        36         2.3        2000   \n",
       "\n",
       "   dew_temperature  solar_radiation  rainfall  snowfall  season  is_holiday  \\\n",
       "0            -17.6              0.0       0.0       0.0       1  No Holiday   \n",
       "1            -17.6              0.0       0.0       0.0       1  No Holiday   \n",
       "2            -17.7              0.0       0.0       0.0       1  No Holiday   \n",
       "3            -17.6              0.0       0.0       0.0       1  No Holiday   \n",
       "4            -18.6              0.0       0.0       0.0       1  No Holiday   \n",
       "\n",
       "  functional_day  \n",
       "0            Yes  \n",
       "1            Yes  \n",
       "2            Yes  \n",
       "3            Yes  \n",
       "4            Yes  "
      ]
     },
     "execution_count": 10,
     "metadata": {},
     "output_type": "execute_result"
    }
   ],
   "source": [
    "df.head()"
   ]
  },
  {
   "cell_type": "code",
   "execution_count": 11,
   "id": "9a2f293a",
   "metadata": {
    "execution": {
     "iopub.execute_input": "2021-08-30T16:24:23.521829Z",
     "iopub.status.busy": "2021-08-30T16:24:23.521147Z",
     "iopub.status.idle": "2021-08-30T16:24:26.556357Z",
     "shell.execute_reply": "2021-08-30T16:24:26.555373Z",
     "shell.execute_reply.started": "2021-08-30T16:21:44.789391Z"
    },
    "papermill": {
     "duration": 3.097199,
     "end_time": "2021-08-30T16:24:26.556466",
     "exception": false,
     "start_time": "2021-08-30T16:24:23.459267",
     "status": "completed"
    },
    "tags": []
   },
   "outputs": [],
   "source": [
    "hourly_temp = list(range(1,13))\n",
    "cut_bins1 = [-18, -15, -10, -5, 0, 5, 10, 15, 20, 25, 30, 35, 40]\n",
    "df['hourly_temp'] = pd.cut(df['temperature'], bins=cut_bins1, labels=hourly_temp)\n",
    "cols_reg = ['hourly_temp']\n",
    "df[cols_reg] = df[cols_reg].apply(pd.to_numeric, errors='coerce', axis=1)"
   ]
  },
  {
   "cell_type": "code",
   "execution_count": 12,
   "id": "23b70907",
   "metadata": {
    "execution": {
     "iopub.execute_input": "2021-08-30T16:24:26.637187Z",
     "iopub.status.busy": "2021-08-30T16:24:26.636084Z",
     "iopub.status.idle": "2021-08-30T16:24:29.033778Z",
     "shell.execute_reply": "2021-08-30T16:24:29.033246Z",
     "shell.execute_reply.started": "2021-08-30T16:21:47.366099Z"
    },
    "papermill": {
     "duration": 2.442345,
     "end_time": "2021-08-30T16:24:29.033910",
     "exception": false,
     "start_time": "2021-08-30T16:24:26.591565",
     "status": "completed"
    },
    "tags": []
   },
   "outputs": [],
   "source": [
    "cut_bins1d = [-30, -25,-20, -15, -10, -5, 0, 5, 10, 15, 20, 25, 30]\n",
    "df['hourly_tempd'] = pd.cut(df['dew_temperature'], bins=cut_bins1d, labels=hourly_temp)\n",
    "df[['hourly_tempd']] = df[['hourly_tempd']].apply(pd.to_numeric, errors='coerce', axis=1)"
   ]
  },
  {
   "cell_type": "code",
   "execution_count": 13,
   "id": "60323cf3",
   "metadata": {
    "execution": {
     "iopub.execute_input": "2021-08-30T16:24:29.144842Z",
     "iopub.status.busy": "2021-08-30T16:24:29.143979Z",
     "iopub.status.idle": "2021-08-30T16:24:29.162967Z",
     "shell.execute_reply": "2021-08-30T16:24:29.163361Z",
     "shell.execute_reply.started": "2021-08-30T16:21:49.678719Z"
    },
    "papermill": {
     "duration": 0.07677,
     "end_time": "2021-08-30T16:24:29.163526",
     "exception": false,
     "start_time": "2021-08-30T16:24:29.086756",
     "status": "completed"
    },
    "tags": []
   },
   "outputs": [
    {
     "name": "stderr",
     "output_type": "stream",
     "text": [
      "/opt/conda/lib/python3.7/site-packages/ipykernel_launcher.py:13: FutureWarning: Series.dt.weekofyear and Series.dt.week have been deprecated.  Please use Series.dt.isocalendar().week instead.\n",
      "  del sys.path[0]\n"
     ]
    }
   ],
   "source": [
    "df=date_features(df)"
   ]
  },
  {
   "cell_type": "code",
   "execution_count": 14,
   "id": "68a6abe2",
   "metadata": {
    "execution": {
     "iopub.execute_input": "2021-08-30T16:24:29.245922Z",
     "iopub.status.busy": "2021-08-30T16:24:29.245433Z",
     "iopub.status.idle": "2021-08-30T16:24:29.248175Z",
     "shell.execute_reply": "2021-08-30T16:24:29.247721Z",
     "shell.execute_reply.started": "2021-08-30T16:21:49.699052Z"
    },
    "papermill": {
     "duration": 0.049683,
     "end_time": "2021-08-30T16:24:29.248296",
     "exception": false,
     "start_time": "2021-08-30T16:24:29.198613",
     "status": "completed"
    },
    "tags": []
   },
   "outputs": [],
   "source": [
    "df['is_holiday'] = [0 if item == 'No Holiday' else 1 for item in df['is_holiday']]\n",
    "df['functional_day'] = [0 if item == 'No' else 1 for item in df['functional_day']]\n",
    "df[\"work_day\"] = [0 if int(x)>4 else 1 for x in df[\"day\"]]"
   ]
  },
  {
   "cell_type": "code",
   "execution_count": 15,
   "id": "dc237f5f",
   "metadata": {
    "execution": {
     "iopub.execute_input": "2021-08-30T16:24:29.323916Z",
     "iopub.status.busy": "2021-08-30T16:24:29.323381Z",
     "iopub.status.idle": "2021-08-30T16:24:30.800708Z",
     "shell.execute_reply": "2021-08-30T16:24:30.801102Z",
     "shell.execute_reply.started": "2021-08-30T16:21:51.877267Z"
    },
    "papermill": {
     "duration": 1.517522,
     "end_time": "2021-08-30T16:24:30.801286",
     "exception": false,
     "start_time": "2021-08-30T16:24:29.283764",
     "status": "completed"
    },
    "tags": []
   },
   "outputs": [],
   "source": [
    "from sklearn.cluster import KMeans\n",
    "cx=df[['temperature','humidity','wind_speed','visibility','solar_radiation','rainfall','snowfall']]\n",
    "kmeans = KMeans(n_clusters=4, random_state=0).fit(cx)\n",
    "kmeans.labels_\n",
    "cluster_pred=kmeans.predict(df[['temperature','humidity','wind_speed','visibility','solar_radiation','rainfall','snowfall']])\n",
    "kmeans.cluster_centers_,cluster_pred\n",
    "df['weath']=cluster_pred"
   ]
  },
  {
   "cell_type": "code",
   "execution_count": 16,
   "id": "683e2f29",
   "metadata": {
    "execution": {
     "iopub.execute_input": "2021-08-30T16:24:30.888280Z",
     "iopub.status.busy": "2021-08-30T16:24:30.887556Z",
     "iopub.status.idle": "2021-08-30T16:24:30.889435Z",
     "shell.execute_reply": "2021-08-30T16:24:30.888869Z",
     "shell.execute_reply.started": "2021-08-30T16:21:53.455320Z"
    },
    "papermill": {
     "duration": 0.047898,
     "end_time": "2021-08-30T16:24:30.889553",
     "exception": false,
     "start_time": "2021-08-30T16:24:30.841655",
     "status": "completed"
    },
    "tags": []
   },
   "outputs": [],
   "source": [
    "shift_roll_cols=['temperature', 'humidity', 'wind_speed', 'visibility','solar_radiation', 'rainfall','hour']"
   ]
  },
  {
   "cell_type": "code",
   "execution_count": 17,
   "id": "60f321ad",
   "metadata": {
    "execution": {
     "iopub.execute_input": "2021-08-30T16:24:31.015351Z",
     "iopub.status.busy": "2021-08-30T16:24:31.014618Z",
     "iopub.status.idle": "2021-08-30T16:24:31.016058Z",
     "shell.execute_reply": "2021-08-30T16:24:31.017150Z",
     "shell.execute_reply.started": "2021-08-30T16:21:54.543130Z"
    },
    "papermill": {
     "duration": 0.069939,
     "end_time": "2021-08-30T16:24:31.017353",
     "exception": false,
     "start_time": "2021-08-30T16:24:30.947414",
     "status": "completed"
    },
    "tags": []
   },
   "outputs": [],
   "source": [
    "def add_rolls_time_series(df):\n",
    "    for col in shift_roll_cols:\n",
    "            for i in range(1,3):\n",
    "                shifted = df[col].shift(i)\n",
    "                window = shifted.rolling(window=1 if col not in ('rainfall', 'snowfall') else 2)\n",
    "                means = window.mean()\n",
    "                df[col+'_roll_'+str(i)]=means\n",
    "                df[col+'_roll_'+str(i)].fillna(means)\n",
    "    return df"
   ]
  },
  {
   "cell_type": "code",
   "execution_count": 18,
   "id": "4e8beda3",
   "metadata": {
    "execution": {
     "iopub.execute_input": "2021-08-30T16:24:31.141718Z",
     "iopub.status.busy": "2021-08-30T16:24:31.140142Z",
     "iopub.status.idle": "2021-08-30T16:24:31.142887Z",
     "shell.execute_reply": "2021-08-30T16:24:31.142326Z",
     "shell.execute_reply.started": "2021-08-30T16:21:54.932976Z"
    },
    "papermill": {
     "duration": 0.067246,
     "end_time": "2021-08-30T16:24:31.143013",
     "exception": false,
     "start_time": "2021-08-30T16:24:31.075767",
     "status": "completed"
    },
    "tags": []
   },
   "outputs": [],
   "source": [
    "def add_shifts_time_series(df):\n",
    "    for col in shift_roll_cols:\n",
    "        for i in range(1,3):\n",
    "            shifted = df[col].shift(i)\n",
    "            df[col+'_shift_'+str(i)]=shifted\n",
    "            df[col+'_shift_'+str(i)].fillna(shifted)\n",
    "    return df"
   ]
  },
  {
   "cell_type": "code",
   "execution_count": 19,
   "id": "aa2a6ebe",
   "metadata": {
    "execution": {
     "iopub.execute_input": "2021-08-30T16:24:31.282249Z",
     "iopub.status.busy": "2021-08-30T16:24:31.267088Z",
     "iopub.status.idle": "2021-08-30T16:24:31.290262Z",
     "shell.execute_reply": "2021-08-30T16:24:31.290814Z",
     "shell.execute_reply.started": "2021-08-30T16:21:56.465145Z"
    },
    "papermill": {
     "duration": 0.089766,
     "end_time": "2021-08-30T16:24:31.291005",
     "exception": false,
     "start_time": "2021-08-30T16:24:31.201239",
     "status": "completed"
    },
    "tags": []
   },
   "outputs": [],
   "source": [
    "df=add_rolls_time_series(df)"
   ]
  },
  {
   "cell_type": "code",
   "execution_count": 20,
   "id": "1f133f09",
   "metadata": {
    "execution": {
     "iopub.execute_input": "2021-08-30T16:24:31.424744Z",
     "iopub.status.busy": "2021-08-30T16:24:31.424092Z",
     "iopub.status.idle": "2021-08-30T16:24:31.427583Z",
     "shell.execute_reply": "2021-08-30T16:24:31.428115Z",
     "shell.execute_reply.started": "2021-08-30T16:21:59.398124Z"
    },
    "papermill": {
     "duration": 0.078623,
     "end_time": "2021-08-30T16:24:31.428297",
     "exception": false,
     "start_time": "2021-08-30T16:24:31.349674",
     "status": "completed"
    },
    "tags": []
   },
   "outputs": [],
   "source": [
    "df=add_shifts_time_series(df)"
   ]
  },
  {
   "cell_type": "code",
   "execution_count": 21,
   "id": "7d60385e",
   "metadata": {
    "execution": {
     "iopub.execute_input": "2021-08-30T16:24:31.553046Z",
     "iopub.status.busy": "2021-08-30T16:24:31.552071Z",
     "iopub.status.idle": "2021-08-30T16:24:31.582480Z",
     "shell.execute_reply": "2021-08-30T16:24:31.582997Z",
     "shell.execute_reply.started": "2021-08-30T16:22:00.528377Z"
    },
    "papermill": {
     "duration": 0.096053,
     "end_time": "2021-08-30T16:24:31.583174",
     "exception": false,
     "start_time": "2021-08-30T16:24:31.487121",
     "status": "completed"
    },
    "tags": []
   },
   "outputs": [],
   "source": [
    "df=cyclic_encode(df,'month',12)\n",
    "df=cyclic_encode(df,'hour',23)"
   ]
  },
  {
   "cell_type": "code",
   "execution_count": 22,
   "id": "0760c596",
   "metadata": {
    "execution": {
     "iopub.execute_input": "2021-08-30T16:24:31.703409Z",
     "iopub.status.busy": "2021-08-30T16:24:31.702751Z",
     "iopub.status.idle": "2021-08-30T16:24:31.705949Z",
     "shell.execute_reply": "2021-08-30T16:24:31.705346Z",
     "shell.execute_reply.started": "2021-08-30T16:22:01.437985Z"
    },
    "papermill": {
     "duration": 0.063541,
     "end_time": "2021-08-30T16:24:31.706093",
     "exception": false,
     "start_time": "2021-08-30T16:24:31.642552",
     "status": "completed"
    },
    "tags": []
   },
   "outputs": [],
   "source": [
    "df=df.fillna(0)"
   ]
  },
  {
   "cell_type": "code",
   "execution_count": 23,
   "id": "c18b1cf3",
   "metadata": {
    "execution": {
     "iopub.execute_input": "2021-08-30T16:24:31.818504Z",
     "iopub.status.busy": "2021-08-30T16:24:31.817962Z",
     "iopub.status.idle": "2021-08-30T16:24:31.823269Z",
     "shell.execute_reply": "2021-08-30T16:24:31.822849Z",
     "shell.execute_reply.started": "2021-08-30T16:22:02.551141Z"
    },
    "papermill": {
     "duration": 0.064283,
     "end_time": "2021-08-30T16:24:31.823380",
     "exception": false,
     "start_time": "2021-08-30T16:24:31.759097",
     "status": "completed"
    },
    "tags": []
   },
   "outputs": [],
   "source": [
    "df['count_log'] = np.log1p(df['count'])"
   ]
  },
  {
   "cell_type": "code",
   "execution_count": 24,
   "id": "b0307219",
   "metadata": {
    "execution": {
     "iopub.execute_input": "2021-08-30T16:24:31.899596Z",
     "iopub.status.busy": "2021-08-30T16:24:31.898949Z",
     "iopub.status.idle": "2021-08-30T16:24:31.965590Z",
     "shell.execute_reply": "2021-08-30T16:24:31.964968Z",
     "shell.execute_reply.started": "2021-08-30T16:22:03.223184Z"
    },
    "papermill": {
     "duration": 0.106077,
     "end_time": "2021-08-30T16:24:31.965725",
     "exception": false,
     "start_time": "2021-08-30T16:24:31.859648",
     "status": "completed"
    },
    "tags": []
   },
   "outputs": [
    {
     "data": {
      "text/html": [
       "<div>\n",
       "<style scoped>\n",
       "    .dataframe tbody tr th:only-of-type {\n",
       "        vertical-align: middle;\n",
       "    }\n",
       "\n",
       "    .dataframe tbody tr th {\n",
       "        vertical-align: top;\n",
       "    }\n",
       "\n",
       "    .dataframe thead th {\n",
       "        text-align: right;\n",
       "    }\n",
       "</style>\n",
       "<table border=\"1\" class=\"dataframe\">\n",
       "  <thead>\n",
       "    <tr style=\"text-align: right;\">\n",
       "      <th></th>\n",
       "      <th>ID</th>\n",
       "      <th>count</th>\n",
       "      <th>temperature</th>\n",
       "      <th>humidity</th>\n",
       "      <th>wind_speed</th>\n",
       "      <th>visibility</th>\n",
       "      <th>dew_temperature</th>\n",
       "      <th>solar_radiation</th>\n",
       "      <th>rainfall</th>\n",
       "      <th>snowfall</th>\n",
       "      <th>season</th>\n",
       "      <th>is_holiday</th>\n",
       "      <th>functional_day</th>\n",
       "      <th>hourly_temp</th>\n",
       "      <th>hourly_tempd</th>\n",
       "      <th>year</th>\n",
       "      <th>day</th>\n",
       "      <th>dayofyear</th>\n",
       "      <th>dayofweek</th>\n",
       "      <th>label_day_night</th>\n",
       "      <th>weekofyear</th>\n",
       "      <th>work_day</th>\n",
       "      <th>weath</th>\n",
       "      <th>temperature_roll_1</th>\n",
       "      <th>temperature_roll_2</th>\n",
       "      <th>humidity_roll_1</th>\n",
       "      <th>humidity_roll_2</th>\n",
       "      <th>wind_speed_roll_1</th>\n",
       "      <th>wind_speed_roll_2</th>\n",
       "      <th>visibility_roll_1</th>\n",
       "      <th>visibility_roll_2</th>\n",
       "      <th>solar_radiation_roll_1</th>\n",
       "      <th>solar_radiation_roll_2</th>\n",
       "      <th>rainfall_roll_1</th>\n",
       "      <th>rainfall_roll_2</th>\n",
       "      <th>hour_roll_1</th>\n",
       "      <th>hour_roll_2</th>\n",
       "      <th>temperature_shift_1</th>\n",
       "      <th>temperature_shift_2</th>\n",
       "      <th>humidity_shift_1</th>\n",
       "      <th>humidity_shift_2</th>\n",
       "      <th>wind_speed_shift_1</th>\n",
       "      <th>wind_speed_shift_2</th>\n",
       "      <th>visibility_shift_1</th>\n",
       "      <th>visibility_shift_2</th>\n",
       "      <th>solar_radiation_shift_1</th>\n",
       "      <th>solar_radiation_shift_2</th>\n",
       "      <th>rainfall_shift_1</th>\n",
       "      <th>rainfall_shift_2</th>\n",
       "      <th>hour_shift_1</th>\n",
       "      <th>hour_shift_2</th>\n",
       "      <th>month_sin</th>\n",
       "      <th>month_cos</th>\n",
       "      <th>hour_sin</th>\n",
       "      <th>hour_cos</th>\n",
       "      <th>count_log</th>\n",
       "    </tr>\n",
       "  </thead>\n",
       "  <tbody>\n",
       "    <tr>\n",
       "      <th>932</th>\n",
       "      <td>932</td>\n",
       "      <td>342</td>\n",
       "      <td>1.2</td>\n",
       "      <td>51</td>\n",
       "      <td>0.6</td>\n",
       "      <td>1544</td>\n",
       "      <td>-7.8</td>\n",
       "      <td>0.00</td>\n",
       "      <td>0.0</td>\n",
       "      <td>0.0</td>\n",
       "      <td>1</td>\n",
       "      <td>0</td>\n",
       "      <td>1</td>\n",
       "      <td>5</td>\n",
       "      <td>5</td>\n",
       "      <td>2018</td>\n",
       "      <td>19</td>\n",
       "      <td>19</td>\n",
       "      <td>4</td>\n",
       "      <td>1</td>\n",
       "      <td>3</td>\n",
       "      <td>0</td>\n",
       "      <td>2</td>\n",
       "      <td>2.0</td>\n",
       "      <td>2.9</td>\n",
       "      <td>48.0</td>\n",
       "      <td>45.0</td>\n",
       "      <td>1.8</td>\n",
       "      <td>1.6</td>\n",
       "      <td>1519.0</td>\n",
       "      <td>1629.0</td>\n",
       "      <td>0.00</td>\n",
       "      <td>0.04</td>\n",
       "      <td>0.0</td>\n",
       "      <td>0.0</td>\n",
       "      <td>19.0</td>\n",
       "      <td>18.0</td>\n",
       "      <td>2.0</td>\n",
       "      <td>2.9</td>\n",
       "      <td>48.0</td>\n",
       "      <td>45.0</td>\n",
       "      <td>1.8</td>\n",
       "      <td>1.6</td>\n",
       "      <td>1519.0</td>\n",
       "      <td>1629.0</td>\n",
       "      <td>0.00</td>\n",
       "      <td>0.04</td>\n",
       "      <td>0.0</td>\n",
       "      <td>0.0</td>\n",
       "      <td>19.0</td>\n",
       "      <td>18.0</td>\n",
       "      <td>0.500000</td>\n",
       "      <td>8.660254e-01</td>\n",
       "      <td>-0.730836</td>\n",
       "      <td>0.682553</td>\n",
       "      <td>5.837730</td>\n",
       "    </tr>\n",
       "    <tr>\n",
       "      <th>1571</th>\n",
       "      <td>1571</td>\n",
       "      <td>475</td>\n",
       "      <td>6.3</td>\n",
       "      <td>41</td>\n",
       "      <td>1.3</td>\n",
       "      <td>1519</td>\n",
       "      <td>-6.0</td>\n",
       "      <td>2.12</td>\n",
       "      <td>0.0</td>\n",
       "      <td>0.0</td>\n",
       "      <td>2</td>\n",
       "      <td>0</td>\n",
       "      <td>1</td>\n",
       "      <td>6</td>\n",
       "      <td>5</td>\n",
       "      <td>2018</td>\n",
       "      <td>6</td>\n",
       "      <td>65</td>\n",
       "      <td>1</td>\n",
       "      <td>1</td>\n",
       "      <td>10</td>\n",
       "      <td>0</td>\n",
       "      <td>2</td>\n",
       "      <td>3.7</td>\n",
       "      <td>1.2</td>\n",
       "      <td>51.0</td>\n",
       "      <td>62.0</td>\n",
       "      <td>1.3</td>\n",
       "      <td>0.8</td>\n",
       "      <td>1596.0</td>\n",
       "      <td>1338.0</td>\n",
       "      <td>1.56</td>\n",
       "      <td>0.85</td>\n",
       "      <td>0.0</td>\n",
       "      <td>0.0</td>\n",
       "      <td>10.0</td>\n",
       "      <td>9.0</td>\n",
       "      <td>3.7</td>\n",
       "      <td>1.2</td>\n",
       "      <td>51.0</td>\n",
       "      <td>62.0</td>\n",
       "      <td>1.3</td>\n",
       "      <td>0.8</td>\n",
       "      <td>1596.0</td>\n",
       "      <td>1338.0</td>\n",
       "      <td>1.56</td>\n",
       "      <td>0.85</td>\n",
       "      <td>0.0</td>\n",
       "      <td>0.0</td>\n",
       "      <td>10.0</td>\n",
       "      <td>9.0</td>\n",
       "      <td>1.000000</td>\n",
       "      <td>6.123234e-17</td>\n",
       "      <td>0.136167</td>\n",
       "      <td>-0.990686</td>\n",
       "      <td>6.165418</td>\n",
       "    </tr>\n",
       "    <tr>\n",
       "      <th>1221</th>\n",
       "      <td>1221</td>\n",
       "      <td>119</td>\n",
       "      <td>-5.6</td>\n",
       "      <td>69</td>\n",
       "      <td>2.2</td>\n",
       "      <td>1984</td>\n",
       "      <td>-10.3</td>\n",
       "      <td>0.00</td>\n",
       "      <td>0.0</td>\n",
       "      <td>0.0</td>\n",
       "      <td>1</td>\n",
       "      <td>0</td>\n",
       "      <td>1</td>\n",
       "      <td>3</td>\n",
       "      <td>4</td>\n",
       "      <td>2018</td>\n",
       "      <td>11</td>\n",
       "      <td>42</td>\n",
       "      <td>6</td>\n",
       "      <td>0</td>\n",
       "      <td>6</td>\n",
       "      <td>0</td>\n",
       "      <td>0</td>\n",
       "      <td>-5.7</td>\n",
       "      <td>-5.2</td>\n",
       "      <td>67.0</td>\n",
       "      <td>66.0</td>\n",
       "      <td>2.6</td>\n",
       "      <td>3.1</td>\n",
       "      <td>2000.0</td>\n",
       "      <td>2000.0</td>\n",
       "      <td>0.00</td>\n",
       "      <td>0.00</td>\n",
       "      <td>0.0</td>\n",
       "      <td>0.0</td>\n",
       "      <td>20.0</td>\n",
       "      <td>19.0</td>\n",
       "      <td>-5.7</td>\n",
       "      <td>-5.2</td>\n",
       "      <td>67.0</td>\n",
       "      <td>66.0</td>\n",
       "      <td>2.6</td>\n",
       "      <td>3.1</td>\n",
       "      <td>2000.0</td>\n",
       "      <td>2000.0</td>\n",
       "      <td>0.00</td>\n",
       "      <td>0.00</td>\n",
       "      <td>0.0</td>\n",
       "      <td>0.0</td>\n",
       "      <td>20.0</td>\n",
       "      <td>19.0</td>\n",
       "      <td>0.866025</td>\n",
       "      <td>5.000000e-01</td>\n",
       "      <td>-0.519584</td>\n",
       "      <td>0.854419</td>\n",
       "      <td>4.787492</td>\n",
       "    </tr>\n",
       "    <tr>\n",
       "      <th>759</th>\n",
       "      <td>759</td>\n",
       "      <td>177</td>\n",
       "      <td>-6.5</td>\n",
       "      <td>26</td>\n",
       "      <td>2.4</td>\n",
       "      <td>1987</td>\n",
       "      <td>-22.8</td>\n",
       "      <td>0.96</td>\n",
       "      <td>0.0</td>\n",
       "      <td>0.0</td>\n",
       "      <td>1</td>\n",
       "      <td>0</td>\n",
       "      <td>1</td>\n",
       "      <td>3</td>\n",
       "      <td>2</td>\n",
       "      <td>2018</td>\n",
       "      <td>12</td>\n",
       "      <td>12</td>\n",
       "      <td>4</td>\n",
       "      <td>1</td>\n",
       "      <td>2</td>\n",
       "      <td>0</td>\n",
       "      <td>0</td>\n",
       "      <td>-7.2</td>\n",
       "      <td>-8.2</td>\n",
       "      <td>28.0</td>\n",
       "      <td>29.0</td>\n",
       "      <td>2.3</td>\n",
       "      <td>2.0</td>\n",
       "      <td>1990.0</td>\n",
       "      <td>1920.0</td>\n",
       "      <td>1.14</td>\n",
       "      <td>1.19</td>\n",
       "      <td>0.0</td>\n",
       "      <td>0.0</td>\n",
       "      <td>14.0</td>\n",
       "      <td>13.0</td>\n",
       "      <td>-7.2</td>\n",
       "      <td>-8.2</td>\n",
       "      <td>28.0</td>\n",
       "      <td>29.0</td>\n",
       "      <td>2.3</td>\n",
       "      <td>2.0</td>\n",
       "      <td>1990.0</td>\n",
       "      <td>1920.0</td>\n",
       "      <td>1.14</td>\n",
       "      <td>1.19</td>\n",
       "      <td>0.0</td>\n",
       "      <td>0.0</td>\n",
       "      <td>14.0</td>\n",
       "      <td>13.0</td>\n",
       "      <td>0.500000</td>\n",
       "      <td>8.660254e-01</td>\n",
       "      <td>-0.816970</td>\n",
       "      <td>-0.576680</td>\n",
       "      <td>5.181784</td>\n",
       "    </tr>\n",
       "    <tr>\n",
       "      <th>1832</th>\n",
       "      <td>1832</td>\n",
       "      <td>384</td>\n",
       "      <td>1.3</td>\n",
       "      <td>57</td>\n",
       "      <td>1.0</td>\n",
       "      <td>1974</td>\n",
       "      <td>-6.2</td>\n",
       "      <td>0.32</td>\n",
       "      <td>0.0</td>\n",
       "      <td>0.0</td>\n",
       "      <td>2</td>\n",
       "      <td>0</td>\n",
       "      <td>1</td>\n",
       "      <td>5</td>\n",
       "      <td>5</td>\n",
       "      <td>2018</td>\n",
       "      <td>17</td>\n",
       "      <td>76</td>\n",
       "      <td>5</td>\n",
       "      <td>1</td>\n",
       "      <td>11</td>\n",
       "      <td>0</td>\n",
       "      <td>0</td>\n",
       "      <td>0.5</td>\n",
       "      <td>0.8</td>\n",
       "      <td>64.0</td>\n",
       "      <td>63.0</td>\n",
       "      <td>0.8</td>\n",
       "      <td>1.0</td>\n",
       "      <td>2000.0</td>\n",
       "      <td>2000.0</td>\n",
       "      <td>0.01</td>\n",
       "      <td>0.00</td>\n",
       "      <td>0.0</td>\n",
       "      <td>0.0</td>\n",
       "      <td>7.0</td>\n",
       "      <td>6.0</td>\n",
       "      <td>0.5</td>\n",
       "      <td>0.8</td>\n",
       "      <td>64.0</td>\n",
       "      <td>63.0</td>\n",
       "      <td>0.8</td>\n",
       "      <td>1.0</td>\n",
       "      <td>2000.0</td>\n",
       "      <td>2000.0</td>\n",
       "      <td>0.01</td>\n",
       "      <td>0.00</td>\n",
       "      <td>0.0</td>\n",
       "      <td>0.0</td>\n",
       "      <td>7.0</td>\n",
       "      <td>6.0</td>\n",
       "      <td>1.000000</td>\n",
       "      <td>6.123234e-17</td>\n",
       "      <td>0.816970</td>\n",
       "      <td>-0.576680</td>\n",
       "      <td>5.953243</td>\n",
       "    </tr>\n",
       "  </tbody>\n",
       "</table>\n",
       "</div>"
      ],
      "text/plain": [
       "        ID  count  temperature  humidity  wind_speed  visibility  \\\n",
       "932    932    342          1.2        51         0.6        1544   \n",
       "1571  1571    475          6.3        41         1.3        1519   \n",
       "1221  1221    119         -5.6        69         2.2        1984   \n",
       "759    759    177         -6.5        26         2.4        1987   \n",
       "1832  1832    384          1.3        57         1.0        1974   \n",
       "\n",
       "      dew_temperature  solar_radiation  rainfall  snowfall  season  \\\n",
       "932              -7.8             0.00       0.0       0.0       1   \n",
       "1571             -6.0             2.12       0.0       0.0       2   \n",
       "1221            -10.3             0.00       0.0       0.0       1   \n",
       "759             -22.8             0.96       0.0       0.0       1   \n",
       "1832             -6.2             0.32       0.0       0.0       2   \n",
       "\n",
       "      is_holiday  functional_day  hourly_temp  hourly_tempd  year  day  \\\n",
       "932            0               1            5             5  2018   19   \n",
       "1571           0               1            6             5  2018    6   \n",
       "1221           0               1            3             4  2018   11   \n",
       "759            0               1            3             2  2018   12   \n",
       "1832           0               1            5             5  2018   17   \n",
       "\n",
       "      dayofyear  dayofweek  label_day_night  weekofyear  work_day  weath  \\\n",
       "932          19          4                1           3         0      2   \n",
       "1571         65          1                1          10         0      2   \n",
       "1221         42          6                0           6         0      0   \n",
       "759          12          4                1           2         0      0   \n",
       "1832         76          5                1          11         0      0   \n",
       "\n",
       "      temperature_roll_1  temperature_roll_2  humidity_roll_1  \\\n",
       "932                  2.0                 2.9             48.0   \n",
       "1571                 3.7                 1.2             51.0   \n",
       "1221                -5.7                -5.2             67.0   \n",
       "759                 -7.2                -8.2             28.0   \n",
       "1832                 0.5                 0.8             64.0   \n",
       "\n",
       "      humidity_roll_2  wind_speed_roll_1  wind_speed_roll_2  \\\n",
       "932              45.0                1.8                1.6   \n",
       "1571             62.0                1.3                0.8   \n",
       "1221             66.0                2.6                3.1   \n",
       "759              29.0                2.3                2.0   \n",
       "1832             63.0                0.8                1.0   \n",
       "\n",
       "      visibility_roll_1  visibility_roll_2  solar_radiation_roll_1  \\\n",
       "932              1519.0             1629.0                    0.00   \n",
       "1571             1596.0             1338.0                    1.56   \n",
       "1221             2000.0             2000.0                    0.00   \n",
       "759              1990.0             1920.0                    1.14   \n",
       "1832             2000.0             2000.0                    0.01   \n",
       "\n",
       "      solar_radiation_roll_2  rainfall_roll_1  rainfall_roll_2  hour_roll_1  \\\n",
       "932                     0.04              0.0              0.0         19.0   \n",
       "1571                    0.85              0.0              0.0         10.0   \n",
       "1221                    0.00              0.0              0.0         20.0   \n",
       "759                     1.19              0.0              0.0         14.0   \n",
       "1832                    0.00              0.0              0.0          7.0   \n",
       "\n",
       "      hour_roll_2  temperature_shift_1  temperature_shift_2  humidity_shift_1  \\\n",
       "932          18.0                  2.0                  2.9              48.0   \n",
       "1571          9.0                  3.7                  1.2              51.0   \n",
       "1221         19.0                 -5.7                 -5.2              67.0   \n",
       "759          13.0                 -7.2                 -8.2              28.0   \n",
       "1832          6.0                  0.5                  0.8              64.0   \n",
       "\n",
       "      humidity_shift_2  wind_speed_shift_1  wind_speed_shift_2  \\\n",
       "932               45.0                 1.8                 1.6   \n",
       "1571              62.0                 1.3                 0.8   \n",
       "1221              66.0                 2.6                 3.1   \n",
       "759               29.0                 2.3                 2.0   \n",
       "1832              63.0                 0.8                 1.0   \n",
       "\n",
       "      visibility_shift_1  visibility_shift_2  solar_radiation_shift_1  \\\n",
       "932               1519.0              1629.0                     0.00   \n",
       "1571              1596.0              1338.0                     1.56   \n",
       "1221              2000.0              2000.0                     0.00   \n",
       "759               1990.0              1920.0                     1.14   \n",
       "1832              2000.0              2000.0                     0.01   \n",
       "\n",
       "      solar_radiation_shift_2  rainfall_shift_1  rainfall_shift_2  \\\n",
       "932                      0.04               0.0               0.0   \n",
       "1571                     0.85               0.0               0.0   \n",
       "1221                     0.00               0.0               0.0   \n",
       "759                      1.19               0.0               0.0   \n",
       "1832                     0.00               0.0               0.0   \n",
       "\n",
       "      hour_shift_1  hour_shift_2  month_sin     month_cos  hour_sin  hour_cos  \\\n",
       "932           19.0          18.0   0.500000  8.660254e-01 -0.730836  0.682553   \n",
       "1571          10.0           9.0   1.000000  6.123234e-17  0.136167 -0.990686   \n",
       "1221          20.0          19.0   0.866025  5.000000e-01 -0.519584  0.854419   \n",
       "759           14.0          13.0   0.500000  8.660254e-01 -0.816970 -0.576680   \n",
       "1832           7.0           6.0   1.000000  6.123234e-17  0.816970 -0.576680   \n",
       "\n",
       "      count_log  \n",
       "932    5.837730  \n",
       "1571   6.165418  \n",
       "1221   4.787492  \n",
       "759    5.181784  \n",
       "1832   5.953243  "
      ]
     },
     "execution_count": 24,
     "metadata": {},
     "output_type": "execute_result"
    }
   ],
   "source": [
    "df.sample(5)"
   ]
  },
  {
   "cell_type": "code",
   "execution_count": 25,
   "id": "5e64dcd5",
   "metadata": {
    "execution": {
     "iopub.execute_input": "2021-08-30T16:24:32.081301Z",
     "iopub.status.busy": "2021-08-30T16:24:32.080682Z",
     "iopub.status.idle": "2021-08-30T16:24:32.083898Z",
     "shell.execute_reply": "2021-08-30T16:24:32.083383Z",
     "shell.execute_reply.started": "2021-08-30T16:22:04.486097Z"
    },
    "papermill": {
     "duration": 0.062388,
     "end_time": "2021-08-30T16:24:32.084011",
     "exception": false,
     "start_time": "2021-08-30T16:24:32.021623",
     "status": "completed"
    },
    "tags": []
   },
   "outputs": [],
   "source": [
    "def rmsle(y, y_pred):\n",
    "    y = np.expm1(y)\n",
    "    y_pred=y_pred.clip(min=0,max=10)\n",
    "    y_pred = np.expm1(y_pred)\n",
    "    return np.sqrt(mean_squared_log_error(y, y_pred))"
   ]
  },
  {
   "cell_type": "code",
   "execution_count": 26,
   "id": "a37a292b",
   "metadata": {
    "execution": {
     "iopub.execute_input": "2021-08-30T16:24:32.205343Z",
     "iopub.status.busy": "2021-08-30T16:24:32.200163Z",
     "iopub.status.idle": "2021-08-30T16:24:32.208315Z",
     "shell.execute_reply": "2021-08-30T16:24:32.207779Z",
     "shell.execute_reply.started": "2021-08-30T16:22:05.590036Z"
    },
    "papermill": {
     "duration": 0.070074,
     "end_time": "2021-08-30T16:24:32.208450",
     "exception": false,
     "start_time": "2021-08-30T16:24:32.138376",
     "status": "completed"
    },
    "tags": []
   },
   "outputs": [],
   "source": [
    "train = df[df['day']<=16]\n",
    "test = df[df['day']>16]\n",
    "drop_cols=['ID','count','count_log','day', 'dew_temperature','hourly_tempd','hourly_temp','year','work_day','weath','label_day_night','wind_speed_shift_1']\n",
    "X_train = train.drop(drop_cols,axis=1)\n",
    "y_train = train['count_log']\n",
    "X_test = test.drop(drop_cols,axis=1)\n",
    "y_test = test['count_log']"
   ]
  },
  {
   "cell_type": "code",
   "execution_count": 27,
   "id": "2d7c6568",
   "metadata": {
    "execution": {
     "iopub.execute_input": "2021-08-30T16:24:32.322832Z",
     "iopub.status.busy": "2021-08-30T16:24:32.322114Z",
     "iopub.status.idle": "2021-08-30T16:24:32.326446Z",
     "shell.execute_reply": "2021-08-30T16:24:32.325935Z",
     "shell.execute_reply.started": "2021-08-30T16:22:06.386114Z"
    },
    "papermill": {
     "duration": 0.06395,
     "end_time": "2021-08-30T16:24:32.326564",
     "exception": false,
     "start_time": "2021-08-30T16:24:32.262614",
     "status": "completed"
    },
    "tags": []
   },
   "outputs": [
    {
     "data": {
      "text/plain": [
       "Index(['temperature', 'humidity', 'wind_speed', 'visibility',\n",
       "       'solar_radiation', 'rainfall', 'snowfall', 'season', 'is_holiday',\n",
       "       'functional_day', 'dayofyear', 'dayofweek', 'weekofyear',\n",
       "       'temperature_roll_1', 'temperature_roll_2', 'humidity_roll_1',\n",
       "       'humidity_roll_2', 'wind_speed_roll_1', 'wind_speed_roll_2',\n",
       "       'visibility_roll_1', 'visibility_roll_2', 'solar_radiation_roll_1',\n",
       "       'solar_radiation_roll_2', 'rainfall_roll_1', 'rainfall_roll_2',\n",
       "       'hour_roll_1', 'hour_roll_2', 'temperature_shift_1',\n",
       "       'temperature_shift_2', 'humidity_shift_1', 'humidity_shift_2',\n",
       "       'wind_speed_shift_2', 'visibility_shift_1', 'visibility_shift_2',\n",
       "       'solar_radiation_shift_1', 'solar_radiation_shift_2',\n",
       "       'rainfall_shift_1', 'rainfall_shift_2', 'hour_shift_1', 'hour_shift_2',\n",
       "       'month_sin', 'month_cos', 'hour_sin', 'hour_cos'],\n",
       "      dtype='object')"
      ]
     },
     "execution_count": 27,
     "metadata": {},
     "output_type": "execute_result"
    }
   ],
   "source": [
    "cols=X_train.columns\n",
    "cols"
   ]
  },
  {
   "cell_type": "code",
   "execution_count": 28,
   "id": "9d50ff4b",
   "metadata": {
    "execution": {
     "iopub.execute_input": "2021-08-30T16:24:32.444489Z",
     "iopub.status.busy": "2021-08-30T16:24:32.443829Z",
     "iopub.status.idle": "2021-08-30T16:25:58.725439Z",
     "shell.execute_reply": "2021-08-30T16:25:58.724879Z",
     "shell.execute_reply.started": "2021-08-30T16:22:08.217956Z"
    },
    "papermill": {
     "duration": 86.343806,
     "end_time": "2021-08-30T16:25:58.725569",
     "exception": false,
     "start_time": "2021-08-30T16:24:32.381763",
     "status": "completed"
    },
    "tags": []
   },
   "outputs": [
    {
     "name": "stderr",
     "output_type": "stream",
     "text": [
      "Warning: Overfitting detector is active, thus evaluation metric is calculated on every iteration. 'metric_period' is ignored for evaluation metric.\n"
     ]
    },
    {
     "name": "stdout",
     "output_type": "stream",
     "text": [
      "0:\tlearn: 1.1565995\ttest: 1.1120048\tbest: 1.1120048 (0)\ttotal: 55.3ms\tremaining: 27m 40s\n",
      "5000:\tlearn: 0.1103710\ttest: 0.1728399\tbest: 0.1728399 (5000)\ttotal: 14.3s\tremaining: 1m 11s\n",
      "10000:\tlearn: 0.0956515\ttest: 0.1704287\tbest: 0.1703241 (9628)\ttotal: 28.3s\tremaining: 56.6s\n",
      "15000:\tlearn: 0.0876658\ttest: 0.1690309\tbest: 0.1690235 (14978)\ttotal: 42.5s\tremaining: 42.5s\n",
      "20000:\tlearn: 0.0827765\ttest: 0.1681916\tbest: 0.1681875 (19923)\ttotal: 56.7s\tremaining: 28.3s\n",
      "25000:\tlearn: 0.0792510\ttest: 0.1678037\tbest: 0.1678013 (24995)\ttotal: 1m 10s\tremaining: 14.1s\n",
      "29999:\tlearn: 0.0764768\ttest: 0.1674766\tbest: 0.1674704 (29838)\ttotal: 1m 24s\tremaining: 0us\n",
      "\n",
      "bestTest = 0.1674704338\n",
      "bestIteration = 29838\n",
      "\n",
      "Shrink model to first 29839 iterations.\n",
      "RMSLE :  0.19848150157090275\n",
      "RMSLE :  0.3183922734464548\n"
     ]
    }
   ],
   "source": [
    "from catboost import Pool, CatBoostRegressor\n",
    "\n",
    "\n",
    "train_dataset = Pool(data=X_train,\n",
    "                     label=y_train)\n",
    "\n",
    "test_dataset = Pool(data=X_test,\n",
    "                    label=y_test)\n",
    "\n",
    "model = CatBoostRegressor(iterations=30000,\n",
    "                          learning_rate=0.025,\n",
    "                          depth=4,\n",
    "                          loss_function='MAE',\n",
    "                          random_seed = 42,\n",
    "                          random_strength = 4 ,\n",
    "                          l2_leaf_reg=0.2,\n",
    "                          od_type='Iter',\n",
    "                          metric_period = 5000,\n",
    "                          od_wait=6000,\n",
    "                          use_best_model=True)\n",
    "model.fit(train_dataset,eval_set=test_dataset,use_best_model=True)\n",
    "pred_1 = model.predict(X_train)\n",
    "pred = model.predict(X_test) \n",
    "\n",
    "met1 = rmsle(y_train, pred_1)\n",
    "print('RMSLE : ', met1) \n",
    "\n",
    "met2 = rmsle(y_test, pred)\n",
    "print('RMSLE : ', met2) "
   ]
  },
  {
   "cell_type": "code",
   "execution_count": 29,
   "id": "38415d0f",
   "metadata": {
    "execution": {
     "iopub.execute_input": "2021-08-30T16:25:58.852501Z",
     "iopub.status.busy": "2021-08-30T16:25:58.851953Z",
     "iopub.status.idle": "2021-08-30T16:25:59.829798Z",
     "shell.execute_reply": "2021-08-30T16:25:59.830336Z",
     "shell.execute_reply.started": "2021-08-30T16:23:34.218371Z"
    },
    "papermill": {
     "duration": 1.044473,
     "end_time": "2021-08-30T16:25:59.830505",
     "exception": false,
     "start_time": "2021-08-30T16:25:58.786032",
     "status": "completed"
    },
    "tags": []
   },
   "outputs": [
    {
     "name": "stdout",
     "output_type": "stream",
     "text": [
      "              feature_names  feature_importance\n",
      "20        visibility_roll_2            0.195199\n",
      "19        visibility_roll_1            0.182946\n",
      "31       wind_speed_shift_2            0.177743\n",
      "34  solar_radiation_shift_1            0.176223\n",
      "18        wind_speed_roll_2            0.173860\n",
      "2                wind_speed            0.163675\n",
      "29         humidity_shift_1            0.142734\n",
      "32       visibility_shift_1            0.141817\n",
      "33       visibility_shift_2            0.058173\n",
      "6                  snowfall            0.031796\n"
     ]
    },
    {
     "data": {
      "image/png": "[encoded data removed]",
      "text/plain": [
       "<Figure size 720x864 with 1 Axes>"
      ]
     },
     "metadata": {},
     "output_type": "display_data"
    }
   ],
   "source": [
    "\n",
    "def plot_feature_importance(importance,names,model_type):\n",
    "    #Create arrays from feature importance and feature names\n",
    "    feature_importance = np.array(importance)\n",
    "    feature_names = np.array(names)\n",
    "\n",
    "    #Create a DataFrame using a Dictionary\n",
    "    data={'feature_names':feature_names,'feature_importance':feature_importance}\n",
    "    fi_df = pd.DataFrame(data)\n",
    "\n",
    "    #Sort the DataFrame in order decreasing feature importance\n",
    "    fi_df.sort_values(by=['feature_importance'], ascending=False,inplace=True)\n",
    "    print(fi_df.tail(10))\n",
    "    #Define size of bar plot\n",
    "    plt.figure(figsize=(10,12))\n",
    "    #Plot Searborn bar chart\n",
    "    \n",
    "    sns.barplot(x=fi_df['feature_importance'], y=fi_df['feature_names'])\n",
    "    #Add chart labels\n",
    "    plt.title(model_type + ' FEATURE IMPORTANCE')\n",
    "    plt.xlabel('FEATURE IMPORTANCE')\n",
    "    plt.ylabel('FEATURE NAMES')\n",
    "\n",
    "plot_feature_importance(model.get_feature_importance(),X_train.columns,'CATBOOST')\n"
   ]
  },
  {
   "cell_type": "code",
   "execution_count": 30,
   "id": "0e077b12",
   "metadata": {
    "execution": {
     "iopub.execute_input": "2021-08-30T16:25:59.964256Z",
     "iopub.status.busy": "2021-08-30T16:25:59.963572Z",
     "iopub.status.idle": "2021-08-30T16:25:59.984430Z",
     "shell.execute_reply": "2021-08-30T16:25:59.983903Z",
     "shell.execute_reply.started": "2021-08-30T16:23:39.165181Z"
    },
    "papermill": {
     "duration": 0.088251,
     "end_time": "2021-08-30T16:25:59.984538",
     "exception": false,
     "start_time": "2021-08-30T16:25:59.896287",
     "status": "completed"
    },
    "tags": []
   },
   "outputs": [],
   "source": [
    "test_df = pd.read_csv(os.path.join(dataset_path, 'test.csv'))"
   ]
  },
  {
   "cell_type": "code",
   "execution_count": 31,
   "id": "d15cc294",
   "metadata": {
    "execution": {
     "iopub.execute_input": "2021-08-30T16:26:00.076550Z",
     "iopub.status.busy": "2021-08-30T16:26:00.073873Z",
     "iopub.status.idle": "2021-08-30T16:26:00.103562Z",
     "shell.execute_reply": "2021-08-30T16:26:00.102916Z",
     "shell.execute_reply.started": "2021-08-30T16:23:39.370808Z"
    },
    "papermill": {
     "duration": 0.07765,
     "end_time": "2021-08-30T16:26:00.103680",
     "exception": false,
     "start_time": "2021-08-30T16:26:00.026030",
     "status": "completed"
    },
    "tags": []
   },
   "outputs": [
    {
     "data": {
      "text/html": [
       "<div>\n",
       "<style scoped>\n",
       "    .dataframe tbody tr th:only-of-type {\n",
       "        vertical-align: middle;\n",
       "    }\n",
       "\n",
       "    .dataframe tbody tr th {\n",
       "        vertical-align: top;\n",
       "    }\n",
       "\n",
       "    .dataframe thead th {\n",
       "        text-align: right;\n",
       "    }\n",
       "</style>\n",
       "<table border=\"1\" class=\"dataframe\">\n",
       "  <thead>\n",
       "    <tr style=\"text-align: right;\">\n",
       "      <th></th>\n",
       "      <th>ID</th>\n",
       "      <th>Hour</th>\n",
       "      <th>Temperature(�C)</th>\n",
       "      <th>Humidity(%)</th>\n",
       "      <th>Wind speed (m/s)</th>\n",
       "      <th>Visibility (10m)</th>\n",
       "      <th>Dew point temperature(�C)</th>\n",
       "      <th>Solar Radiation (MJ/m2)</th>\n",
       "      <th>Rainfall(mm)</th>\n",
       "      <th>Snowfall (cm)</th>\n",
       "    </tr>\n",
       "  </thead>\n",
       "  <tbody>\n",
       "    <tr>\n",
       "      <th>count</th>\n",
       "      <td>3000.000000</td>\n",
       "      <td>3000.000000</td>\n",
       "      <td>3000.000000</td>\n",
       "      <td>3000.000000</td>\n",
       "      <td>3000.000000</td>\n",
       "      <td>3000.000000</td>\n",
       "      <td>3000.000000</td>\n",
       "      <td>3000.000000</td>\n",
       "      <td>3000.000000</td>\n",
       "      <td>3000.000000</td>\n",
       "    </tr>\n",
       "    <tr>\n",
       "      <th>mean</th>\n",
       "      <td>7259.500000</td>\n",
       "      <td>11.500000</td>\n",
       "      <td>13.035300</td>\n",
       "      <td>57.966000</td>\n",
       "      <td>1.727933</td>\n",
       "      <td>1366.005333</td>\n",
       "      <td>4.103667</td>\n",
       "      <td>0.562940</td>\n",
       "      <td>0.174733</td>\n",
       "      <td>0.130300</td>\n",
       "    </tr>\n",
       "    <tr>\n",
       "      <th>std</th>\n",
       "      <td>866.169729</td>\n",
       "      <td>6.923341</td>\n",
       "      <td>12.026752</td>\n",
       "      <td>21.330288</td>\n",
       "      <td>1.013826</td>\n",
       "      <td>643.374688</td>\n",
       "      <td>13.170840</td>\n",
       "      <td>0.866555</td>\n",
       "      <td>1.223086</td>\n",
       "      <td>0.592634</td>\n",
       "    </tr>\n",
       "    <tr>\n",
       "      <th>min</th>\n",
       "      <td>5760.000000</td>\n",
       "      <td>0.000000</td>\n",
       "      <td>-17.800000</td>\n",
       "      <td>0.000000</td>\n",
       "      <td>0.000000</td>\n",
       "      <td>33.000000</td>\n",
       "      <td>-30.600000</td>\n",
       "      <td>0.000000</td>\n",
       "      <td>0.000000</td>\n",
       "      <td>0.000000</td>\n",
       "    </tr>\n",
       "    <tr>\n",
       "      <th>25%</th>\n",
       "      <td>6509.750000</td>\n",
       "      <td>5.750000</td>\n",
       "      <td>3.900000</td>\n",
       "      <td>40.000000</td>\n",
       "      <td>0.900000</td>\n",
       "      <td>779.000000</td>\n",
       "      <td>-3.900000</td>\n",
       "      <td>0.000000</td>\n",
       "      <td>0.000000</td>\n",
       "      <td>0.000000</td>\n",
       "    </tr>\n",
       "    <tr>\n",
       "      <th>50%</th>\n",
       "      <td>7259.500000</td>\n",
       "      <td>11.500000</td>\n",
       "      <td>13.950000</td>\n",
       "      <td>58.000000</td>\n",
       "      <td>1.500000</td>\n",
       "      <td>1591.500000</td>\n",
       "      <td>4.900000</td>\n",
       "      <td>0.010000</td>\n",
       "      <td>0.000000</td>\n",
       "      <td>0.000000</td>\n",
       "    </tr>\n",
       "    <tr>\n",
       "      <th>75%</th>\n",
       "      <td>8009.250000</td>\n",
       "      <td>17.250000</td>\n",
       "      <td>22.900000</td>\n",
       "      <td>76.000000</td>\n",
       "      <td>2.400000</td>\n",
       "      <td>2000.000000</td>\n",
       "      <td>15.600000</td>\n",
       "      <td>0.910000</td>\n",
       "      <td>0.000000</td>\n",
       "      <td>0.000000</td>\n",
       "    </tr>\n",
       "    <tr>\n",
       "      <th>max</th>\n",
       "      <td>8759.000000</td>\n",
       "      <td>23.000000</td>\n",
       "      <td>38.000000</td>\n",
       "      <td>98.000000</td>\n",
       "      <td>6.900000</td>\n",
       "      <td>2000.000000</td>\n",
       "      <td>26.800000</td>\n",
       "      <td>3.520000</td>\n",
       "      <td>29.500000</td>\n",
       "      <td>8.800000</td>\n",
       "    </tr>\n",
       "  </tbody>\n",
       "</table>\n",
       "</div>"
      ],
      "text/plain": [
       "                ID         Hour  Temperature(�C)  Humidity(%)  \\\n",
       "count  3000.000000  3000.000000      3000.000000  3000.000000   \n",
       "mean   7259.500000    11.500000        13.035300    57.966000   \n",
       "std     866.169729     6.923341        12.026752    21.330288   \n",
       "min    5760.000000     0.000000       -17.800000     0.000000   \n",
       "25%    6509.750000     5.750000         3.900000    40.000000   \n",
       "50%    7259.500000    11.500000        13.950000    58.000000   \n",
       "75%    8009.250000    17.250000        22.900000    76.000000   \n",
       "max    8759.000000    23.000000        38.000000    98.000000   \n",
       "\n",
       "       Wind speed (m/s)  Visibility (10m)  Dew point temperature(�C)  \\\n",
       "count       3000.000000       3000.000000                3000.000000   \n",
       "mean           1.727933       1366.005333                   4.103667   \n",
       "std            1.013826        643.374688                  13.170840   \n",
       "min            0.000000         33.000000                 -30.600000   \n",
       "25%            0.900000        779.000000                  -3.900000   \n",
       "50%            1.500000       1591.500000                   4.900000   \n",
       "75%            2.400000       2000.000000                  15.600000   \n",
       "max            6.900000       2000.000000                  26.800000   \n",
       "\n",
       "       Solar Radiation (MJ/m2)  Rainfall(mm)  Snowfall (cm)  \n",
       "count              3000.000000   3000.000000    3000.000000  \n",
       "mean                  0.562940      0.174733       0.130300  \n",
       "std                   0.866555      1.223086       0.592634  \n",
       "min                   0.000000      0.000000       0.000000  \n",
       "25%                   0.000000      0.000000       0.000000  \n",
       "50%                   0.010000      0.000000       0.000000  \n",
       "75%                   0.910000      0.000000       0.000000  \n",
       "max                   3.520000     29.500000       8.800000  "
      ]
     },
     "execution_count": 31,
     "metadata": {},
     "output_type": "execute_result"
    }
   ],
   "source": [
    "test_df.describe()"
   ]
  },
  {
   "cell_type": "code",
   "execution_count": 32,
   "id": "afd94d6e",
   "metadata": {
    "execution": {
     "iopub.execute_input": "2021-08-30T16:26:00.193576Z",
     "iopub.status.busy": "2021-08-30T16:26:00.192816Z",
     "iopub.status.idle": "2021-08-30T16:26:00.195840Z",
     "shell.execute_reply": "2021-08-30T16:26:00.195367Z",
     "shell.execute_reply.started": "2021-08-30T16:23:40.458212Z"
    },
    "papermill": {
     "duration": 0.050382,
     "end_time": "2021-08-30T16:26:00.195945",
     "exception": false,
     "start_time": "2021-08-30T16:26:00.145563",
     "status": "completed"
    },
    "tags": []
   },
   "outputs": [],
   "source": [
    "test_df.rename(columns={\n",
    "                   \"Date\": \"date\",\n",
    "                   'y':'count',\n",
    "                   'Hour':'hour',\n",
    "                   'Temperature(�C)':'temperature',\n",
    "                  'Humidity(%)':'humidity',\n",
    "                  'Wind speed (m/s)':'wind_speed',\n",
    "                  'Visibility (10m)':'visibility',\n",
    "                  'Dew point temperature(�C)':'dew_temperature',\n",
    "                  'Solar Radiation (MJ/m2)':'solar_radiation',\n",
    "                  'Rainfall(mm)':'rainfall',\n",
    "                  'Snowfall (cm)':'snowfall',\n",
    "                  'Seasons':'season',\n",
    "                  'Holiday':'is_holiday',\n",
    "                  'Functioning Day':'functional_day'},inplace=True)"
   ]
  },
  {
   "cell_type": "code",
   "execution_count": 33,
   "id": "124fa321",
   "metadata": {
    "execution": {
     "iopub.execute_input": "2021-08-30T16:26:00.289618Z",
     "iopub.status.busy": "2021-08-30T16:26:00.288999Z",
     "iopub.status.idle": "2021-08-30T16:26:00.309541Z",
     "shell.execute_reply": "2021-08-30T16:26:00.309077Z",
     "shell.execute_reply.started": "2021-08-30T16:23:40.697272Z"
    },
    "papermill": {
     "duration": 0.071929,
     "end_time": "2021-08-30T16:26:00.309663",
     "exception": false,
     "start_time": "2021-08-30T16:26:00.237734",
     "status": "completed"
    },
    "tags": []
   },
   "outputs": [
    {
     "name": "stderr",
     "output_type": "stream",
     "text": [
      "/opt/conda/lib/python3.7/site-packages/ipykernel_launcher.py:13: FutureWarning: Series.dt.weekofyear and Series.dt.week have been deprecated.  Please use Series.dt.isocalendar().week instead.\n",
      "  del sys.path[0]\n"
     ]
    }
   ],
   "source": [
    "test_df[\"date\"] = pd.to_datetime(test_df[\"date\"], dayfirst=True)\n",
    "test_df=date_features(test_df)"
   ]
  },
  {
   "cell_type": "code",
   "execution_count": 34,
   "id": "de6d4521",
   "metadata": {
    "execution": {
     "iopub.execute_input": "2021-08-30T16:26:00.402005Z",
     "iopub.status.busy": "2021-08-30T16:26:00.401322Z",
     "iopub.status.idle": "2021-08-30T16:26:00.413122Z",
     "shell.execute_reply": "2021-08-30T16:26:00.413669Z",
     "shell.execute_reply.started": "2021-08-30T16:23:42.544439Z"
    },
    "papermill": {
     "duration": 0.061385,
     "end_time": "2021-08-30T16:26:00.413853",
     "exception": false,
     "start_time": "2021-08-30T16:26:00.352468",
     "status": "completed"
    },
    "tags": []
   },
   "outputs": [],
   "source": [
    "cluster_test_pred=kmeans.predict(test_df[['temperature','humidity','wind_speed','visibility','solar_radiation','rainfall','snowfall']])\n",
    "test_df['weath']=cluster_test_pred"
   ]
  },
  {
   "cell_type": "code",
   "execution_count": 35,
   "id": "3d3192d1",
   "metadata": {
    "execution": {
     "iopub.execute_input": "2021-08-30T16:26:00.559180Z",
     "iopub.status.busy": "2021-08-30T16:26:00.558522Z",
     "iopub.status.idle": "2021-08-30T16:26:00.573950Z",
     "shell.execute_reply": "2021-08-30T16:26:00.574523Z",
     "shell.execute_reply.started": "2021-08-30T16:23:43.604032Z"
    },
    "papermill": {
     "duration": 0.091543,
     "end_time": "2021-08-30T16:26:00.574702",
     "exception": false,
     "start_time": "2021-08-30T16:26:00.483159",
     "status": "completed"
    },
    "tags": []
   },
   "outputs": [],
   "source": [
    "test_df=add_rolls_time_series(test_df)"
   ]
  },
  {
   "cell_type": "code",
   "execution_count": 36,
   "id": "a9acf882",
   "metadata": {
    "execution": {
     "iopub.execute_input": "2021-08-30T16:26:00.732888Z",
     "iopub.status.busy": "2021-08-30T16:26:00.732170Z",
     "iopub.status.idle": "2021-08-30T16:26:00.734204Z",
     "shell.execute_reply": "2021-08-30T16:26:00.734861Z",
     "shell.execute_reply.started": "2021-08-30T16:23:43.775685Z"
    },
    "papermill": {
     "duration": 0.091333,
     "end_time": "2021-08-30T16:26:00.735036",
     "exception": false,
     "start_time": "2021-08-30T16:26:00.643703",
     "status": "completed"
    },
    "tags": []
   },
   "outputs": [],
   "source": [
    "test_df=add_shifts_time_series(test_df)"
   ]
  },
  {
   "cell_type": "code",
   "execution_count": 37,
   "id": "e4ba14bb",
   "metadata": {
    "execution": {
     "iopub.execute_input": "2021-08-30T16:26:00.890291Z",
     "iopub.status.busy": "2021-08-30T16:26:00.889629Z",
     "iopub.status.idle": "2021-08-30T16:26:00.899967Z",
     "shell.execute_reply": "2021-08-30T16:26:00.899400Z",
     "shell.execute_reply.started": "2021-08-30T16:23:44.826003Z"
    },
    "papermill": {
     "duration": 0.095011,
     "end_time": "2021-08-30T16:26:00.900101",
     "exception": false,
     "start_time": "2021-08-30T16:26:00.805090",
     "status": "completed"
    },
    "tags": []
   },
   "outputs": [],
   "source": [
    "test_df=test_df.fillna(0)"
   ]
  },
  {
   "cell_type": "code",
   "execution_count": 38,
   "id": "874b2a8e",
   "metadata": {
    "execution": {
     "iopub.execute_input": "2021-08-30T16:26:01.065166Z",
     "iopub.status.busy": "2021-08-30T16:26:01.064494Z",
     "iopub.status.idle": "2021-08-30T16:26:02.575373Z",
     "shell.execute_reply": "2021-08-30T16:26:02.574193Z",
     "shell.execute_reply.started": "2021-08-30T16:23:45.940556Z"
    },
    "papermill": {
     "duration": 1.597207,
     "end_time": "2021-08-30T16:26:02.575505",
     "exception": false,
     "start_time": "2021-08-30T16:26:00.978298",
     "status": "completed"
    },
    "tags": []
   },
   "outputs": [],
   "source": [
    "test_df['hourly_temp'] = pd.cut(test_df['temperature'], bins=cut_bins1, labels=hourly_temp)\n",
    "test_df[cols_reg] = test_df[cols_reg].apply(pd.to_numeric, errors='coerce', axis=1)"
   ]
  },
  {
   "cell_type": "code",
   "execution_count": 39,
   "id": "89d1115e",
   "metadata": {
    "execution": {
     "iopub.execute_input": "2021-08-30T16:26:02.707904Z",
     "iopub.status.busy": "2021-08-30T16:26:02.707275Z",
     "iopub.status.idle": "2021-08-30T16:26:03.983260Z",
     "shell.execute_reply": "2021-08-30T16:26:03.983849Z",
     "shell.execute_reply.started": "2021-08-30T16:23:47.560788Z"
    },
    "papermill": {
     "duration": 1.345293,
     "end_time": "2021-08-30T16:26:03.984019",
     "exception": false,
     "start_time": "2021-08-30T16:26:02.638726",
     "status": "completed"
    },
    "tags": []
   },
   "outputs": [],
   "source": [
    "cut_bins1d = [-30, -25,-20, -15, -10, -5, 0, 5, 10, 15, 20, 25, 30]\n",
    "test_df['hourly_tempd'] = pd.cut(df['dew_temperature'], bins=cut_bins1d, labels=hourly_temp)\n",
    "test_df[['hourly_tempd']] = test_df[['hourly_tempd']].apply(pd.to_numeric, errors='coerce', axis=1)"
   ]
  },
  {
   "cell_type": "code",
   "execution_count": 40,
   "id": "1964537a",
   "metadata": {
    "execution": {
     "iopub.execute_input": "2021-08-30T16:26:04.125804Z",
     "iopub.status.busy": "2021-08-30T16:26:04.125107Z",
     "iopub.status.idle": "2021-08-30T16:26:04.133861Z",
     "shell.execute_reply": "2021-08-30T16:26:04.133361Z",
     "shell.execute_reply.started": "2021-08-30T16:23:49.258566Z"
    },
    "papermill": {
     "duration": 0.084863,
     "end_time": "2021-08-30T16:26:04.133990",
     "exception": false,
     "start_time": "2021-08-30T16:26:04.049127",
     "status": "completed"
    },
    "tags": []
   },
   "outputs": [],
   "source": [
    "test_df['season']=test_df[\"season\"].map({'Winter':1,'Spring':2,'Autumn':3,'Summer':4})\n",
    "test_df['is_holiday'] = [0 if item == 'No Holiday' else 1 for item in test_df['is_holiday']]\n",
    "test_df['functional_day'] = [0 if item == 'No' else 1 for item in test_df['functional_day']]\n",
    "test_df[\"work_day\"] = [0 if int(x)>4 else 1 for x in test_df[\"day\"]]\n",
    "test_df=cyclic_encode(test_df,'month',12)\n",
    "test_df=cyclic_encode(test_df,'hour',23)"
   ]
  },
  {
   "cell_type": "code",
   "execution_count": 41,
   "id": "2f11847a",
   "metadata": {
    "execution": {
     "iopub.execute_input": "2021-08-30T16:26:04.279550Z",
     "iopub.status.busy": "2021-08-30T16:26:04.278672Z",
     "iopub.status.idle": "2021-08-30T16:26:04.339721Z",
     "shell.execute_reply": "2021-08-30T16:26:04.338528Z",
     "shell.execute_reply.started": "2021-08-30T16:23:49.289497Z"
    },
    "papermill": {
     "duration": 0.143873,
     "end_time": "2021-08-30T16:26:04.339901",
     "exception": false,
     "start_time": "2021-08-30T16:26:04.196028",
     "status": "completed"
    },
    "tags": []
   },
   "outputs": [],
   "source": [
    "y_test_pred = model.predict(test_df[cols])\n",
    "y_test_pred=y_test_pred.clip(min=0,max=10)\n",
    "y_test_pred = np.expm1(y_test_pred)\n",
    "test_df['y']=y_test_pred\n",
    "test_df.loc[(test_df['functional_day']==0),'y'] = 0"
   ]
  },
  {
   "cell_type": "code",
   "execution_count": 42,
   "id": "f6e9ea63",
   "metadata": {
    "execution": {
     "iopub.execute_input": "2021-08-30T16:26:04.480235Z",
     "iopub.status.busy": "2021-08-30T16:26:04.478856Z",
     "iopub.status.idle": "2021-08-30T16:26:04.498385Z",
     "shell.execute_reply": "2021-08-30T16:26:04.497556Z",
     "shell.execute_reply.started": "2021-08-30T16:23:49.344047Z"
    },
    "papermill": {
     "duration": 0.089999,
     "end_time": "2021-08-30T16:26:04.498559",
     "exception": false,
     "start_time": "2021-08-30T16:26:04.408560",
     "status": "completed"
    },
    "tags": []
   },
   "outputs": [],
   "source": [
    "submit_path='/kaggle/working/submission.csv'\n",
    "test_df[['ID', 'y']].to_csv(submit_path, index=False)"
   ]
  },
  {
   "cell_type": "code",
   "execution_count": null,
   "id": "9b553f92",
   "metadata": {
    "papermill": {
     "duration": 0.06551,
     "end_time": "2021-08-30T16:26:04.639081",
     "exception": false,
     "start_time": "2021-08-30T16:26:04.573571",
     "status": "completed"
    },
    "tags": []
   },
   "outputs": [],
   "source": []
  },
  {
   "cell_type": "code",
   "execution_count": null,
   "id": "75a92a15",
   "metadata": {
    "papermill": {
     "duration": 0.065098,
     "end_time": "2021-08-30T16:26:04.769357",
     "exception": false,
     "start_time": "2021-08-30T16:26:04.704259",
     "status": "completed"
    },
    "tags": []
   },
   "outputs": [],
   "source": []
  },
  {
   "cell_type": "code",
   "execution_count": null,
   "id": "ac144756",
   "metadata": {
    "papermill": {
     "duration": 0.065065,
     "end_time": "2021-08-30T16:26:04.900565",
     "exception": false,
     "start_time": "2021-08-30T16:26:04.835500",
     "status": "completed"
    },
    "tags": []
   },
   "outputs": [],
   "source": []
  },
  {
   "cell_type": "code",
   "execution_count": null,
   "id": "176a90cb",
   "metadata": {
    "papermill": {
     "duration": 0.064441,
     "end_time": "2021-08-30T16:26:05.028986",
     "exception": false,
     "start_time": "2021-08-30T16:26:04.964545",
     "status": "completed"
    },
    "tags": []
   },
   "outputs": [],
   "source": []
  },
  {
   "cell_type": "code",
   "execution_count": null,
   "id": "501a7dac",
   "metadata": {
    "papermill": {
     "duration": 0.064596,
     "end_time": "2021-08-30T16:26:05.159176",
     "exception": false,
     "start_time": "2021-08-30T16:26:05.094580",
     "status": "completed"
    },
    "tags": []
   },
   "outputs": [],
   "source": []
  },
  {
   "cell_type": "code",
   "execution_count": null,
   "id": "9d046ab3",
   "metadata": {
    "papermill": {
     "duration": 0.063658,
     "end_time": "2021-08-30T16:26:05.287336",
     "exception": false,
     "start_time": "2021-08-30T16:26:05.223678",
     "status": "completed"
    },
    "tags": []
   },
   "outputs": [],
   "source": []
  },
  {
   "cell_type": "code",
   "execution_count": null,
   "id": "324d5f69",
   "metadata": {
    "papermill": {
     "duration": 0.062445,
     "end_time": "2021-08-30T16:26:05.413006",
     "exception": false,
     "start_time": "2021-08-30T16:26:05.350561",
     "status": "completed"
    },
    "tags": []
   },
   "outputs": [],
   "source": []
  },
  {
   "cell_type": "code",
   "execution_count": null,
   "id": "b60eb652",
   "metadata": {
    "papermill": {
     "duration": 0.062753,
     "end_time": "2021-08-30T16:26:05.539441",
     "exception": false,
     "start_time": "2021-08-30T16:26:05.476688",
     "status": "completed"
    },
    "tags": []
   },
   "outputs": [],
   "source": []
  },
  {
   "cell_type": "code",
   "execution_count": null,
   "id": "651a98f4",
   "metadata": {
    "papermill": {
     "duration": 0.062972,
     "end_time": "2021-08-30T16:26:05.665035",
     "exception": false,
     "start_time": "2021-08-30T16:26:05.602063",
     "status": "completed"
    },
    "tags": []
   },
   "outputs": [],
   "source": []
  },
  {
   "cell_type": "code",
   "execution_count": null,
   "id": "9fc2d965",
   "metadata": {
    "papermill": {
     "duration": 0.063491,
     "end_time": "2021-08-30T16:26:05.793106",
     "exception": false,
     "start_time": "2021-08-30T16:26:05.729615",
     "status": "completed"
    },
    "tags": []
   },
   "outputs": [],
   "source": []
  },
  {
   "cell_type": "code",
   "execution_count": null,
   "id": "8ad75472",
   "metadata": {
    "papermill": {
     "duration": 0.062295,
     "end_time": "2021-08-30T16:26:05.919145",
     "exception": false,
     "start_time": "2021-08-30T16:26:05.856850",
     "status": "completed"
    },
    "tags": []
   },
   "outputs": [],
   "source": []
  },
  {
   "cell_type": "code",
   "execution_count": null,
   "id": "dcbcb5fa",
   "metadata": {
    "papermill": {
     "duration": 0.062446,
     "end_time": "2021-08-30T16:26:06.043751",
     "exception": false,
     "start_time": "2021-08-30T16:26:05.981305",
     "status": "completed"
    },
    "tags": []
   },
   "outputs": [],
   "source": []
  }
 ],
 "metadata": {
  "kernelspec": {
   "display_name": "Python 3",
   "language": "python",
   "name": "python3"
  },
  "language_info": {
   "codemirror_mode": {
    "name": "ipython",
    "version": 3
   },
   "file_extension": ".py",
   "mimetype": "text/x-python",
   "name": "python",
   "nbconvert_exporter": "python",
   "pygments_lexer": "ipython3",
   "version": "3.7.10"
  },
  "papermill": {
   "default_parameters": {},
   "duration": 114.860114,
   "end_time": "2021-08-30T16:26:07.018465",
   "environment_variables": {},
   "exception": null,
   "input_path": "__notebook__.ipynb",
   "output_path": "__notebook__.ipynb",
   "parameters": {},
   "start_time": "2021-08-30T16:24:12.158351",
   "version": "2.3.3"
  }
 },
 "nbformat": 4,
 "nbformat_minor": 5
}
